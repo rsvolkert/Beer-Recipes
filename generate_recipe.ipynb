{
  "nbformat": 4,
  "nbformat_minor": 0,
  "metadata": {
    "colab": {
      "name": "generate_recipe.ipynb",
      "provenance": [],
      "authorship_tag": "ABX9TyNiAwo5ZhO3EZ+3ripUk5aa",
      "include_colab_link": true
    },
    "kernelspec": {
      "name": "python3",
      "display_name": "Python 3"
    },
    "language_info": {
      "name": "python"
    },
    "accelerator": "GPU"
  },
  "cells": [
    {
      "cell_type": "markdown",
      "metadata": {
        "id": "view-in-github",
        "colab_type": "text"
      },
      "source": [
        "<a href=\"https://colab.research.google.com/github/rsvolkert/Beer-Recipes/blob/main/generate_recipe.ipynb\" target=\"_parent\"><img src=\"https://colab.research.google.com/assets/colab-badge.svg\" alt=\"Open In Colab\"/></a>"
      ]
    },
    {
      "cell_type": "code",
      "metadata": {
        "id": "fwE8y6Ig_3T3"
      },
      "source": [
        "import os\n",
        "import numpy as np\n",
        "import pandas as pd\n",
        "import tensorflow as tf\n",
        "import matplotlib.pyplot as plt\n",
        "from google.colab import files\n",
        "\n",
        "os.environ[\"TF_FORCE_GPU_ALLOW_GROWTH\"]=\"true\""
      ],
      "execution_count": 1,
      "outputs": []
    },
    {
      "cell_type": "code",
      "metadata": {
        "id": "0X9Q2EdFDYsK"
      },
      "source": [
        "recipes = pd.read_csv('https://raw.githubusercontent.com/rsvolkert/Beer-Recipes/main/Data/recipes.csv')\n",
        "instructions = [recipe for recipe in recipes['recipe']]"
      ],
      "execution_count": 2,
      "outputs": []
    },
    {
      "cell_type": "code",
      "metadata": {
        "id": "zckJqiRcFzTc"
      },
      "source": [
        "STOP = '#'\n",
        "STOP_NAME = 'NAME'\n",
        "STOP_STYLE = 'STYLE'\n",
        "STOP_METHOD = 'METHOD'\n",
        "STOP_INGREDIENTS = 'INGREDIENTS'\n",
        "STOP_INSTRUCTIONS = 'INSTRUCTIONS'"
      ],
      "execution_count": 3,
      "outputs": []
    },
    {
      "cell_type": "code",
      "metadata": {
        "id": "Etjn3G00Gb2t"
      },
      "source": [
        "tokenizer = tf.keras.preprocessing.text.Tokenizer(\n",
        "    char_level=True,\n",
        "    filters='',\n",
        "    lower=False,\n",
        "    split=''\n",
        ")\n",
        "\n",
        "tokenizer.fit_on_texts([STOP])\n",
        "tokenizer.fit_on_texts(instructions)\n",
        "\n",
        "VOCABULARY_SIZE = len(tokenizer.word_counts) + 1"
      ],
      "execution_count": 4,
      "outputs": []
    },
    {
      "cell_type": "code",
      "metadata": {
        "id": "rvN2v2A8Geez"
      },
      "source": [
        "vectorized = tokenizer.texts_to_sequences(instructions)\n",
        "vectorized_padded_without_stops = tf.keras.preprocessing.sequence.pad_sequences(\n",
        "    vectorized,\n",
        "    padding='post',\n",
        "    truncating='post',\n",
        "    value=tokenizer.texts_to_sequences([STOP])[0]\n",
        ")\n",
        "vectorized_padded = tf.keras.preprocessing.sequence.pad_sequences(\n",
        "    vectorized_padded_without_stops,\n",
        "    padding='post',\n",
        "    truncating='post',\n",
        "    value=tokenizer.texts_to_sequences([STOP])[0]\n",
        ")"
      ],
      "execution_count": 5,
      "outputs": []
    },
    {
      "cell_type": "code",
      "metadata": {
        "id": "43Yq8uK3GhGA"
      },
      "source": [
        "dataset = tf.data.Dataset.from_tensor_slices(vectorized_padded)"
      ],
      "execution_count": 6,
      "outputs": []
    },
    {
      "cell_type": "code",
      "metadata": {
        "id": "oGauU9EyGmoC"
      },
      "source": [
        "def split_input_target(recipe):\n",
        "    input_text = recipe[:-1]\n",
        "    target_text = recipe[1:]\n",
        "    \n",
        "    return input_text, target_text\n",
        "\n",
        "targeted = dataset.map(split_input_target)"
      ],
      "execution_count": 7,
      "outputs": []
    },
    {
      "cell_type": "code",
      "metadata": {
        "id": "p64agJhbGosO"
      },
      "source": [
        "BATCH_SIZE = 32\n",
        "SHUFFLE_SIZE = 1000\n",
        "\n",
        "train = targeted.shuffle(SHUFFLE_SIZE).batch(BATCH_SIZE, drop_remainder=True).repeat()"
      ],
      "execution_count": 8,
      "outputs": []
    },
    {
      "cell_type": "code",
      "metadata": {
        "id": "WmxkpyPZGqxM"
      },
      "source": [
        "def build_model(vocab_size, embedding_dim, rnn_units, batch_size):\n",
        "    model = tf.keras.models.Sequential()\n",
        "    \n",
        "    model.add(tf.keras.layers.Embedding(\n",
        "        input_dim=vocab_size,\n",
        "        output_dim=embedding_dim,\n",
        "        batch_input_shape=[batch_size, None]\n",
        "    ))\n",
        "    \n",
        "    model.add(tf.keras.layers.LSTM(\n",
        "        units=rnn_units,\n",
        "        return_sequences=True,\n",
        "        stateful=True,\n",
        "        recurrent_initializer=tf.keras.initializers.GlorotNormal()\n",
        "    ))\n",
        "    \n",
        "    model.add(tf.keras.layers.Dense(vocab_size))\n",
        "    \n",
        "    return model\n",
        "\n",
        "model = build_model(\n",
        "    vocab_size=VOCABULARY_SIZE,\n",
        "    embedding_dim=256,\n",
        "    rnn_units=1024,\n",
        "    batch_size=BATCH_SIZE\n",
        ")"
      ],
      "execution_count": 9,
      "outputs": []
    },
    {
      "cell_type": "code",
      "metadata": {
        "id": "vyG9l8r4GtBH"
      },
      "source": [
        "def loss(labels, logits):\n",
        "    entropy = tf.keras.losses.sparse_categorical_crossentropy(\n",
        "        y_true=labels,\n",
        "        y_pred=logits,\n",
        "        from_logits=True\n",
        "    )\n",
        "    \n",
        "    return entropy\n",
        "\n",
        "adam_optimizer = tf.keras.optimizers.Adam(learning_rate=0.001)\n",
        "\n",
        "model.compile(\n",
        "    optimizer=adam_optimizer,\n",
        "    loss=loss\n",
        ")"
      ],
      "execution_count": 10,
      "outputs": []
    },
    {
      "cell_type": "code",
      "metadata": {
        "id": "sdmYgK8rGx6D"
      },
      "source": [
        "early_stopping_callback = tf.keras.callbacks.EarlyStopping(\n",
        "    patience=5,\n",
        "    monitor='loss',\n",
        "    restore_best_weights=True,\n",
        "    verbose=1\n",
        ")\n",
        "\n",
        "os.makedirs('tmp/checkpoints', exist_ok=True)\n",
        "checkpoint_prefix = os.path.join('tmp/checkpoints', 'ckpt_{epoch}')\n",
        "chckpt_callback = tf.keras.callbacks.ModelCheckpoint(\n",
        "    filepath=checkpoint_prefix,\n",
        "    save_weights_only=True\n",
        ")"
      ],
      "execution_count": 11,
      "outputs": []
    },
    {
      "cell_type": "code",
      "metadata": {
        "colab": {
          "base_uri": "https://localhost:8080/"
        },
        "id": "aB81LNmsHx-d",
        "outputId": "e127038a-15fe-4ad0-9332-77ab0e6d93ff"
      },
      "source": [
        "EPOCHS = 100\n",
        "STEPS_PER_EPOCH = 100\n",
        "\n",
        "history = model.fit(\n",
        "    x=train,\n",
        "    epochs=EPOCHS,\n",
        "    steps_per_epoch=STEPS_PER_EPOCH,\n",
        "    callbacks=[chckpt_callback, early_stopping_callback]\n",
        ")"
      ],
      "execution_count": 85,
      "outputs": [
        {
          "output_type": "stream",
          "text": [
            "Epoch 1/100\n",
            "100/100 [==============================] - 221s 2s/step - loss: 2.2389\n",
            "Epoch 2/100\n",
            "100/100 [==============================] - 225s 2s/step - loss: 1.1559\n",
            "Epoch 3/100\n",
            "100/100 [==============================] - 226s 2s/step - loss: 0.8215\n",
            "Epoch 4/100\n",
            "100/100 [==============================] - 225s 2s/step - loss: 0.4859\n",
            "Epoch 5/100\n",
            "100/100 [==============================] - 225s 2s/step - loss: 0.2214\n",
            "Epoch 6/100\n",
            "100/100 [==============================] - 225s 2s/step - loss: 0.1840\n",
            "Epoch 7/100\n",
            "100/100 [==============================] - 225s 2s/step - loss: 0.1228\n",
            "Epoch 8/100\n",
            "100/100 [==============================] - 225s 2s/step - loss: 0.1022\n",
            "Epoch 9/100\n",
            "100/100 [==============================] - 225s 2s/step - loss: 0.0894\n",
            "Epoch 10/100\n",
            "100/100 [==============================] - 226s 2s/step - loss: 0.0807\n",
            "Epoch 11/100\n",
            "100/100 [==============================] - 226s 2s/step - loss: 0.0757\n",
            "Epoch 12/100\n",
            "100/100 [==============================] - 226s 2s/step - loss: 0.0726\n",
            "Epoch 13/100\n",
            "100/100 [==============================] - 225s 2s/step - loss: 0.0681\n",
            "Epoch 14/100\n",
            "100/100 [==============================] - 225s 2s/step - loss: 0.0658\n",
            "Epoch 15/100\n",
            "100/100 [==============================] - 225s 2s/step - loss: 0.0630\n",
            "Epoch 16/100\n",
            "100/100 [==============================] - 225s 2s/step - loss: 0.0603\n",
            "Epoch 17/100\n",
            "100/100 [==============================] - 225s 2s/step - loss: 0.0591\n",
            "Epoch 18/100\n",
            "100/100 [==============================] - 226s 2s/step - loss: 0.0571\n",
            "Epoch 19/100\n",
            "100/100 [==============================] - 225s 2s/step - loss: 0.0552\n",
            "Epoch 20/100\n",
            "100/100 [==============================] - 225s 2s/step - loss: 0.0549\n",
            "Epoch 21/100\n",
            "100/100 [==============================] - 225s 2s/step - loss: 0.0543\n",
            "Epoch 22/100\n",
            "100/100 [==============================] - 224s 2s/step - loss: 0.0519\n",
            "Epoch 23/100\n",
            "100/100 [==============================] - 225s 2s/step - loss: 0.0515\n",
            "Epoch 24/100\n",
            "100/100 [==============================] - 224s 2s/step - loss: 0.0497\n",
            "Epoch 25/100\n",
            "100/100 [==============================] - 225s 2s/step - loss: 0.0498\n",
            "Epoch 26/100\n",
            "100/100 [==============================] - 224s 2s/step - loss: 0.0491\n",
            "Epoch 27/100\n",
            "100/100 [==============================] - 224s 2s/step - loss: 0.0469\n",
            "Epoch 28/100\n",
            "100/100 [==============================] - 225s 2s/step - loss: 0.0463\n",
            "Epoch 29/100\n",
            "100/100 [==============================] - 225s 2s/step - loss: 0.0455\n",
            "Epoch 30/100\n",
            "100/100 [==============================] - 225s 2s/step - loss: 0.0443\n",
            "Epoch 31/100\n",
            "100/100 [==============================] - 225s 2s/step - loss: 0.0436\n",
            "Epoch 32/100\n",
            "100/100 [==============================] - 225s 2s/step - loss: 0.0432\n",
            "Epoch 33/100\n",
            "100/100 [==============================] - 224s 2s/step - loss: 0.0428\n",
            "Epoch 34/100\n",
            "100/100 [==============================] - 224s 2s/step - loss: 0.0421\n",
            "Epoch 35/100\n",
            "100/100 [==============================] - 224s 2s/step - loss: 0.0408\n",
            "Epoch 36/100\n",
            "100/100 [==============================] - 225s 2s/step - loss: 0.0408\n",
            "Epoch 37/100\n",
            "100/100 [==============================] - 225s 2s/step - loss: 0.0403\n",
            "Epoch 38/100\n",
            "100/100 [==============================] - 225s 2s/step - loss: 0.0395\n",
            "Epoch 39/100\n",
            "100/100 [==============================] - 225s 2s/step - loss: 0.0392\n",
            "Epoch 40/100\n",
            "100/100 [==============================] - 225s 2s/step - loss: 0.0388\n",
            "Epoch 41/100\n",
            "100/100 [==============================] - 224s 2s/step - loss: 0.0383\n",
            "Epoch 42/100\n",
            "100/100 [==============================] - 224s 2s/step - loss: 0.0380\n",
            "Epoch 43/100\n",
            "100/100 [==============================] - 224s 2s/step - loss: 0.0371\n",
            "Epoch 44/100\n",
            "100/100 [==============================] - 225s 2s/step - loss: 0.0376\n",
            "Epoch 45/100\n",
            "100/100 [==============================] - 225s 2s/step - loss: 0.0367\n",
            "Epoch 46/100\n",
            "100/100 [==============================] - 225s 2s/step - loss: 0.0355\n",
            "Epoch 47/100\n",
            "100/100 [==============================] - 225s 2s/step - loss: 0.0363\n",
            "Epoch 48/100\n",
            "100/100 [==============================] - 225s 2s/step - loss: 0.0356\n",
            "Epoch 49/100\n",
            "100/100 [==============================] - 225s 2s/step - loss: 0.0359\n",
            "Epoch 50/100\n",
            "100/100 [==============================] - 225s 2s/step - loss: 0.0352\n",
            "Epoch 51/100\n",
            "100/100 [==============================] - 226s 2s/step - loss: 0.0349\n",
            "Epoch 52/100\n",
            "100/100 [==============================] - 226s 2s/step - loss: 0.0347\n",
            "Epoch 53/100\n",
            "100/100 [==============================] - 227s 2s/step - loss: 0.0344\n",
            "Epoch 54/100\n",
            "100/100 [==============================] - 226s 2s/step - loss: 0.0340\n",
            "Epoch 55/100\n",
            "100/100 [==============================] - 225s 2s/step - loss: 0.0336\n",
            "Epoch 56/100\n",
            "100/100 [==============================] - 226s 2s/step - loss: 0.0329\n",
            "Epoch 57/100\n",
            "100/100 [==============================] - 225s 2s/step - loss: 0.0326\n",
            "Epoch 58/100\n",
            "100/100 [==============================] - 225s 2s/step - loss: 0.0322\n",
            "Epoch 59/100\n",
            "100/100 [==============================] - 225s 2s/step - loss: 0.0317\n",
            "Epoch 60/100\n",
            "100/100 [==============================] - 226s 2s/step - loss: 0.0319\n",
            "Epoch 61/100\n",
            "100/100 [==============================] - 225s 2s/step - loss: 0.0310\n",
            "Epoch 62/100\n",
            "100/100 [==============================] - 225s 2s/step - loss: 0.0304\n",
            "Epoch 63/100\n",
            "100/100 [==============================] - 225s 2s/step - loss: 0.0302\n",
            "Epoch 64/100\n",
            "100/100 [==============================] - 225s 2s/step - loss: 0.0296\n",
            "Epoch 65/100\n",
            "100/100 [==============================] - 225s 2s/step - loss: 0.0293\n",
            "Epoch 66/100\n",
            "100/100 [==============================] - 225s 2s/step - loss: 0.0285\n",
            "Epoch 67/100\n",
            "100/100 [==============================] - 225s 2s/step - loss: 0.0284\n",
            "Epoch 68/100\n",
            "100/100 [==============================] - 225s 2s/step - loss: 0.0278\n",
            "Epoch 69/100\n",
            "100/100 [==============================] - 200s 2s/step - loss: nan\n",
            "Epoch 70/100\n",
            "100/100 [==============================] - 181s 2s/step - loss: nan\n",
            "Epoch 71/100\n",
            "100/100 [==============================] - 181s 2s/step - loss: nan\n",
            "Epoch 72/100\n",
            "100/100 [==============================] - 181s 2s/step - loss: nan\n",
            "Epoch 73/100\n",
            "100/100 [==============================] - 181s 2s/step - loss: nan\n",
            "Restoring model weights from the end of the best epoch.\n",
            "Epoch 00073: early stopping\n"
          ],
          "name": "stdout"
        }
      ]
    },
    {
      "cell_type": "code",
      "metadata": {
        "colab": {
          "base_uri": "https://localhost:8080/",
          "height": 17
        },
        "id": "3YLOUodaIo_P",
        "outputId": "fe9dc822-cfd3-4c71-8aa1-d3b6b6ac9e46"
      },
      "source": [
        "model.save('model.h5')\n",
        "files.download('model.h5')"
      ],
      "execution_count": 86,
      "outputs": [
        {
          "output_type": "display_data",
          "data": {
            "application/javascript": [
              "\n",
              "    async function download(id, filename, size) {\n",
              "      if (!google.colab.kernel.accessAllowed) {\n",
              "        return;\n",
              "      }\n",
              "      const div = document.createElement('div');\n",
              "      const label = document.createElement('label');\n",
              "      label.textContent = `Downloading \"${filename}\": `;\n",
              "      div.appendChild(label);\n",
              "      const progress = document.createElement('progress');\n",
              "      progress.max = size;\n",
              "      div.appendChild(progress);\n",
              "      document.body.appendChild(div);\n",
              "\n",
              "      const buffers = [];\n",
              "      let downloaded = 0;\n",
              "\n",
              "      const channel = await google.colab.kernel.comms.open(id);\n",
              "      // Send a message to notify the kernel that we're ready.\n",
              "      channel.send({})\n",
              "\n",
              "      for await (const message of channel.messages) {\n",
              "        // Send a message to notify the kernel that we're ready.\n",
              "        channel.send({})\n",
              "        if (message.buffers) {\n",
              "          for (const buffer of message.buffers) {\n",
              "            buffers.push(buffer);\n",
              "            downloaded += buffer.byteLength;\n",
              "            progress.value = downloaded;\n",
              "          }\n",
              "        }\n",
              "      }\n",
              "      const blob = new Blob(buffers, {type: 'application/binary'});\n",
              "      const a = document.createElement('a');\n",
              "      a.href = window.URL.createObjectURL(blob);\n",
              "      a.download = filename;\n",
              "      div.appendChild(a);\n",
              "      a.click();\n",
              "      div.remove();\n",
              "    }\n",
              "  "
            ],
            "text/plain": [
              "<IPython.core.display.Javascript object>"
            ]
          },
          "metadata": {
            "tags": []
          }
        },
        {
          "output_type": "display_data",
          "data": {
            "application/javascript": [
              "download(\"download_2603e11c-8498-4bc7-9314-a5f23dbce303\", \"model.h5\", 65241640)"
            ],
            "text/plain": [
              "<IPython.core.display.Javascript object>"
            ]
          },
          "metadata": {
            "tags": []
          }
        }
      ]
    }
  ]
}